{
 "metadata": {
  "name": "",
  "signature": "sha256:be74c3dbdaf791bfb61d1f263567fd4e8ffa88c2ba71a83613972e758d849e91"
 },
 "nbformat": 3,
 "nbformat_minor": 0,
 "worksheets": [
  {
   "cells": [
    {
     "cell_type": "code",
     "collapsed": false,
     "input": [
      "%matplotlib inline\n",
      "%qtconsole"
     ],
     "language": "python",
     "metadata": {},
     "outputs": [],
     "prompt_number": 2
    },
    {
     "cell_type": "code",
     "collapsed": false,
     "input": [
      "import numpy as np\n",
      "import scipy as sp\n",
      "import pandas as pd\n",
      "import statsmodels as st\n",
      "import glob"
     ],
     "language": "python",
     "metadata": {},
     "outputs": [],
     "prompt_number": 1
    },
    {
     "cell_type": "code",
     "collapsed": false,
     "input": [
      "# Read the CSV data, we don't have an index column\n",
      "dflist = []\n",
      "for fname in glob.glob('*lead*.csv'):\n",
      "    dftemp = pd.io.parsers.read_csv(fname, \n",
      "                                    index_col=False,\n",
      "                                    parse_dates=['TEST_DATE'])\n",
      "    dftemp['source'] = fname\n",
      "    dflist.append(dftemp)\n",
      "df = pd.concat(dflist)\n",
      "# Drop duplicates\n",
      "df = df.drop_duplicates(subset=['DCN', 'TEST_MONTH', 'TEST_YEAR'], take_last=True )\n",
      "df.to_csv('combined_lead_data.csv', index=False)"
     ],
     "language": "python",
     "metadata": {},
     "outputs": [],
     "prompt_number": 7
    },
    {
     "cell_type": "code",
     "collapsed": false,
     "input": [
      "# Total number of children\n",
      "population = len(df['DCN'].unique())"
     ],
     "language": "python",
     "metadata": {},
     "outputs": [],
     "prompt_number": 3
    },
    {
     "cell_type": "code",
     "collapsed": false,
     "input": [
      "# Children with lead test level >= 10\n",
      "df['above10'] = df['TEST_RESULT'] >= 10\n",
      "df['above5'] = df['TEST_RESULT'] >= 5\n",
      "# Make a copy for children with BLL > 10"
     ],
     "language": "python",
     "metadata": {},
     "outputs": [],
     "prompt_number": 10
    },
    {
     "cell_type": "code",
     "collapsed": false,
     "input": [
      "cases = df[df['above10']].sort(columns=['TEST_YEAR','DCN']).drop_duplicates(subset=['DCN'], take_last=False)"
     ],
     "language": "python",
     "metadata": {},
     "outputs": [],
     "prompt_number": 12
    },
    {
     "cell_type": "code",
     "collapsed": false,
     "input": [
      "prevalence10 = cases.shape[0]\n",
      "incidence10 = cases.groupby('TEST_YEAR')['DCN'].count()"
     ],
     "language": "python",
     "metadata": {},
     "outputs": [],
     "prompt_number": 32
    },
    {
     "cell_type": "code",
     "collapsed": false,
     "input": [
      "# Children with lead test level >= 5\n",
      "print 'Prevalence( > 10): ', prevalence10\n",
      "print 'Incidence (> 10): ', incidence10"
     ],
     "language": "python",
     "metadata": {},
     "outputs": [
      {
       "output_type": "stream",
       "stream": "stdout",
       "text": [
        "Prevalence( > 10):  658\n",
        "Incidence (> 10):  TEST_YEAR\n",
        "2000         35\n",
        "2001         36\n",
        "2002         54\n",
        "2003         43\n",
        "2004         49\n",
        "2005         43\n",
        "2006         41\n",
        "2007         40\n",
        "2008         37\n",
        "2009         39\n",
        "2010         41\n",
        "2011         51\n",
        "2012         43\n",
        "2013         40\n",
        "2014         50\n",
        "2015          8\n",
        "2016          6\n",
        "2017          2\n",
        "Name: DCN, dtype: int64"
       ]
      },
      {
       "output_type": "stream",
       "stream": "stdout",
       "text": [
        "\n"
       ]
      }
     ],
     "prompt_number": 35
    },
    {
     "cell_type": "code",
     "collapsed": false,
     "input": [],
     "language": "python",
     "metadata": {},
     "outputs": []
    }
   ],
   "metadata": {}
  }
 ]
}